{
 "cells": [
  {
   "cell_type": "markdown",
   "metadata": {},
   "source": [
    "# Euromillion scraper \n",
    "\n",
    "By using web scraping, the aime of the project is to get every euromillion results to do statistic over it.\n",
    "To do so, we will use **selenium** package. "
   ]
  },
  {
   "cell_type": "markdown",
   "metadata": {},
   "source": [
    "```\n",
    "pip install selenium\n",
    "pip install pandas\n",
    "pip install seaborn\n",
    "pip install matplotlib\n",
    "```"
   ]
  },
  {
   "cell_type": "markdown",
   "metadata": {},
   "source": [
    "## Scraping\n",
    "\n",
    "### Imports"
   ]
  },
  {
   "cell_type": "code",
   "execution_count": 1,
   "metadata": {},
   "outputs": [],
   "source": [
    "from selenium.webdriver import Firefox\n",
    "from selenium.webdriver.firefox.options import Options"
   ]
  },
  {
   "cell_type": "markdown",
   "metadata": {},
   "source": [
    "First we will get every page urls \n",
    "To do so, on the landing page and we get every href value of **a** tags, which contains a link to the draw history of a year"
   ]
  },
  {
   "cell_type": "code",
   "execution_count": 2,
   "metadata": {},
   "outputs": [],
   "source": [
    "url = \"https://www.tirage-euromillions.net/euromillions/annees/\"\n",
    "options = Options()\n",
    "\n",
    "# to hide the browser \n",
    "options.headless = True\n",
    "\n",
    "browser = Firefox(options=options)\n",
    "browser.get(url)\n",
    "\n",
    "# get every tag 'a' in the 'li' tag\n",
    "draws = browser.find_elements_by_xpath(\"//*[contains(@href, 'annee-20')]\")\n",
    "\n",
    "page_urls = []\n",
    "for draw in draws:\n",
    "    \n",
    "    href = draw.get_attribute(\"href\")\n",
    "    \n",
    "    page_urls.append(href)\n",
    "\n",
    "#page_urls"
   ]
  },
  {
   "cell_type": "code",
   "execution_count": 3,
   "metadata": {},
   "outputs": [],
   "source": [
    "def extract_text_as_numb(elements: list) -> list:\n",
    "    \"\"\"\n",
    "        get a list of int out of a list of HTML DOM\n",
    "    \"\"\"\n",
    "    \n",
    "    texts = []\n",
    "    for el in elements:\n",
    "        texts.append(int(el.text))\n",
    "    return texts\n",
    "\n",
    "def scrap_numbers(browser) -> list:\n",
    "    \"\"\"\n",
    "        get a list of dict from a browser\n",
    "    \"\"\"\n",
    "    \n",
    "    css_selector = \"tr\"\n",
    "    rows = browser.find_elements_by_tag_name(css_selector)\n",
    "    \n",
    "    trs = []\n",
    "    for row in rows:\n",
    "        try:\n",
    "            # if the element doesn't contain a double td then drop this row\n",
    "            # otherwise save it\n",
    "            row.find_element_by_css_selector(\"td+td\")\n",
    "            trs.append(row)\n",
    "        except:\n",
    "            continue\n",
    "    \n",
    "    results = []\n",
    "    for tr in trs:\n",
    "        tds = tr.find_elements_by_tag_name(\"td\")\n",
    "        date = tds[0].text\n",
    "        \n",
    "        game_points = tr.find_elements_by_class_name(\"game_point\")\n",
    "        \n",
    "        stars = tr.find_elements_by_class_name(\"star_small\")\n",
    "        \n",
    "        line = {\n",
    "            \"date\": date, \n",
    "            \"numbers\": extract_text_as_numb(game_points), \n",
    "            \"stars\": extract_text_as_numb(stars)\n",
    "        }\n",
    "        \n",
    "        results.append(line)\n",
    "    \n",
    "    return results"
   ]
  },
  {
   "cell_type": "markdown",
   "metadata": {},
   "source": [
    "Foreach page url scrap the content and add it to the record. \n",
    "\n",
    "This action might take some times because scraping process is timeconsuming"
   ]
  },
  {
   "cell_type": "code",
   "execution_count": 4,
   "metadata": {},
   "outputs": [
    {
     "data": {
      "text/plain": [
       "[{'date': 'Vendredi 16/04/2021',\n",
       "  'numbers': [6, 11, 29, 40, 48],\n",
       "  'stars': [5, 9]},\n",
       " {'date': 'Mardi 13/04/2021',\n",
       "  'numbers': [16, 20, 31, 47, 50],\n",
       "  'stars': [2, 8]},\n",
       " {'date': 'Vendredi 09/04/2021',\n",
       "  'numbers': [2, 8, 32, 35, 44],\n",
       "  'stars': [8, 11]},\n",
       " {'date': 'Mardi 06/04/2021', 'numbers': [2, 21, 37, 38, 50], 'stars': [7, 8]},\n",
       " {'date': 'Vendredi 02/04/2021',\n",
       "  'numbers': [4, 21, 34, 40, 47],\n",
       "  'stars': [2, 5]}]"
      ]
     },
     "execution_count": 4,
     "metadata": {},
     "output_type": "execute_result"
    }
   ],
   "source": [
    "browser = Firefox(options=options)\n",
    "euro_millions = []\n",
    "\n",
    "for page_url in page_urls:\n",
    "    browser.get(page_url)\n",
    "    euro_millions += scrap_numbers(browser)\n",
    "    \n",
    "euro_millions[0:5]"
   ]
  },
  {
   "cell_type": "markdown",
   "metadata": {},
   "source": [
    "Save the results as a csv file and we will be ready to work on our dataset."
   ]
  },
  {
   "cell_type": "code",
   "execution_count": 5,
   "metadata": {},
   "outputs": [],
   "source": [
    "import csv\n",
    "keys = euro_millions[0].keys()\n",
    "with open('euro_million_history.csv', 'w', newline='')  as output_file:\n",
    "    dict_writer = csv.DictWriter(output_file, keys)\n",
    "    dict_writer.writeheader()\n",
    "    dict_writer.writerows(euro_millions)"
   ]
  },
  {
   "cell_type": "markdown",
   "metadata": {},
   "source": [
    "## Analysis\n",
    "\n",
    "Using the dataset we just created, we are going to see if there are a miracle draw or a combinaison of numbers which often appears. \n",
    "\n",
    "Few questions in mind according to all of this. the question that all players ask themselves:\n",
    "* **Is this game balanced ?**\n",
    "* **Can we increase our chances of winning ?**\n",
    "\n",
    "### imports"
   ]
  },
  {
   "cell_type": "code",
   "execution_count": 6,
   "metadata": {},
   "outputs": [],
   "source": [
    "import pandas as pd\n",
    "import seaborn as sns\n",
    "import matplotlib.pyplot as plt\n",
    "import numpy as np\n",
    "\n",
    "sns.set_theme(style=\"whitegrid\")"
   ]
  },
  {
   "cell_type": "code",
   "execution_count": 7,
   "metadata": {},
   "outputs": [
    {
     "data": {
      "text/html": [
       "<div>\n",
       "<style scoped>\n",
       "    .dataframe tbody tr th:only-of-type {\n",
       "        vertical-align: middle;\n",
       "    }\n",
       "\n",
       "    .dataframe tbody tr th {\n",
       "        vertical-align: top;\n",
       "    }\n",
       "\n",
       "    .dataframe thead th {\n",
       "        text-align: right;\n",
       "    }\n",
       "</style>\n",
       "<table border=\"1\" class=\"dataframe\">\n",
       "  <thead>\n",
       "    <tr style=\"text-align: right;\">\n",
       "      <th></th>\n",
       "      <th>date</th>\n",
       "      <th>numbers</th>\n",
       "      <th>stars</th>\n",
       "    </tr>\n",
       "  </thead>\n",
       "  <tbody>\n",
       "    <tr>\n",
       "      <th>0</th>\n",
       "      <td>Vendredi 16/04/2021</td>\n",
       "      <td>[6, 11, 29, 40, 48]</td>\n",
       "      <td>[5, 9]</td>\n",
       "    </tr>\n",
       "    <tr>\n",
       "      <th>1</th>\n",
       "      <td>Mardi 13/04/2021</td>\n",
       "      <td>[16, 20, 31, 47, 50]</td>\n",
       "      <td>[2, 8]</td>\n",
       "    </tr>\n",
       "    <tr>\n",
       "      <th>2</th>\n",
       "      <td>Vendredi 09/04/2021</td>\n",
       "      <td>[2, 8, 32, 35, 44]</td>\n",
       "      <td>[8, 11]</td>\n",
       "    </tr>\n",
       "    <tr>\n",
       "      <th>3</th>\n",
       "      <td>Mardi 06/04/2021</td>\n",
       "      <td>[2, 21, 37, 38, 50]</td>\n",
       "      <td>[7, 8]</td>\n",
       "    </tr>\n",
       "    <tr>\n",
       "      <th>4</th>\n",
       "      <td>Vendredi 02/04/2021</td>\n",
       "      <td>[4, 21, 34, 40, 47]</td>\n",
       "      <td>[2, 5]</td>\n",
       "    </tr>\n",
       "  </tbody>\n",
       "</table>\n",
       "</div>"
      ],
      "text/plain": [
       "                  date               numbers    stars\n",
       "0  Vendredi 16/04/2021   [6, 11, 29, 40, 48]   [5, 9]\n",
       "1     Mardi 13/04/2021  [16, 20, 31, 47, 50]   [2, 8]\n",
       "2  Vendredi 09/04/2021    [2, 8, 32, 35, 44]  [8, 11]\n",
       "3     Mardi 06/04/2021   [2, 21, 37, 38, 50]   [7, 8]\n",
       "4  Vendredi 02/04/2021   [4, 21, 34, 40, 47]   [2, 5]"
      ]
     },
     "execution_count": 7,
     "metadata": {},
     "output_type": "execute_result"
    }
   ],
   "source": [
    "df = pd.read_csv(\"euro_million_history.csv\")\n",
    "df.head()"
   ]
  },
  {
   "cell_type": "code",
   "execution_count": 8,
   "metadata": {},
   "outputs": [
    {
     "data": {
      "text/html": [
       "<div>\n",
       "<style scoped>\n",
       "    .dataframe tbody tr th:only-of-type {\n",
       "        vertical-align: middle;\n",
       "    }\n",
       "\n",
       "    .dataframe tbody tr th {\n",
       "        vertical-align: top;\n",
       "    }\n",
       "\n",
       "    .dataframe thead th {\n",
       "        text-align: right;\n",
       "    }\n",
       "</style>\n",
       "<table border=\"1\" class=\"dataframe\">\n",
       "  <thead>\n",
       "    <tr style=\"text-align: right;\">\n",
       "      <th></th>\n",
       "      <th>date</th>\n",
       "      <th>numbers</th>\n",
       "      <th>stars</th>\n",
       "    </tr>\n",
       "  </thead>\n",
       "  <tbody>\n",
       "    <tr>\n",
       "      <th>count</th>\n",
       "      <td>1416</td>\n",
       "      <td>1416</td>\n",
       "      <td>1416</td>\n",
       "    </tr>\n",
       "    <tr>\n",
       "      <th>unique</th>\n",
       "      <td>1416</td>\n",
       "      <td>1416</td>\n",
       "      <td>124</td>\n",
       "    </tr>\n",
       "    <tr>\n",
       "      <th>top</th>\n",
       "      <td>Vendredi 14/11/2014</td>\n",
       "      <td>[30, 26, 48, 15, 8]</td>\n",
       "      <td>[2, 6]</td>\n",
       "    </tr>\n",
       "    <tr>\n",
       "      <th>freq</th>\n",
       "      <td>1</td>\n",
       "      <td>1</td>\n",
       "      <td>25</td>\n",
       "    </tr>\n",
       "  </tbody>\n",
       "</table>\n",
       "</div>"
      ],
      "text/plain": [
       "                       date              numbers   stars\n",
       "count                  1416                 1416    1416\n",
       "unique                 1416                 1416     124\n",
       "top     Vendredi 14/11/2014  [30, 26, 48, 15, 8]  [2, 6]\n",
       "freq                      1                    1      25"
      ]
     },
     "execution_count": 8,
     "metadata": {},
     "output_type": "execute_result"
    }
   ],
   "source": [
    "df.describe()"
   ]
  },
  {
   "cell_type": "code",
   "execution_count": 9,
   "metadata": {},
   "outputs": [],
   "source": [
    "def prepare_numbers(dataframe, col_name:str) -> np.array:\n",
    "    arr = np.array(dataframe[col_name].array)\n",
    "    \n",
    "    def cb(arg):\n",
    "        res = arg.replace('[', '').replace(']', '').replace(',','')\n",
    "        return np.array(res.split(' ')).astype(int)\n",
    "    \n",
    "    return np.array(list(map(cb, arr))).flatten()\n",
    "          "
   ]
  },
  {
   "cell_type": "code",
   "execution_count": 10,
   "metadata": {},
   "outputs": [
    {
     "data": {
      "text/plain": [
       "array([5, 9, 2, ..., 5, 6, 5])"
      ]
     },
     "execution_count": 10,
     "metadata": {},
     "output_type": "execute_result"
    }
   ],
   "source": [
    "numbers = prepare_numbers(df, \"numbers\")\n",
    "stars = prepare_numbers(df, \"stars\")\n",
    "\n",
    "stars"
   ]
  },
  {
   "cell_type": "code",
   "execution_count": 11,
   "metadata": {},
   "outputs": [
    {
     "data": {
      "text/plain": [
       "[Text(0, 0.5, 'Nb of occurence'), Text(0.5, 1.0, 'Number histogram')]"
      ]
     },
     "execution_count": 11,
     "metadata": {},
     "output_type": "execute_result"
    },
    {
     "data": {
      "image/png": "[encoded data removed]",
      "text/plain": [
       "<Figure size 1440x1440 with 1 Axes>"
      ]
     },
     "metadata": {
      "needs_background": "light"
     },
     "output_type": "display_data"
    }
   ],
   "source": [
    "plt.figure(figsize=(20,20))\n",
    "plt.hist(numbers, bins=100)\n",
    "plt.gca().set(title='Number histogram', ylabel='Nb of occurence')\n"
   ]
  },
  {
   "cell_type": "code",
   "execution_count": 12,
   "metadata": {},
   "outputs": [
    {
     "data": {
      "text/html": [
       "<div>\n",
       "<style scoped>\n",
       "    .dataframe tbody tr th:only-of-type {\n",
       "        vertical-align: middle;\n",
       "    }\n",
       "\n",
       "    .dataframe tbody tr th {\n",
       "        vertical-align: top;\n",
       "    }\n",
       "\n",
       "    .dataframe thead th {\n",
       "        text-align: right;\n",
       "    }\n",
       "</style>\n",
       "<table border=\"1\" class=\"dataframe\">\n",
       "  <thead>\n",
       "    <tr style=\"text-align: right;\">\n",
       "      <th></th>\n",
       "      <th>frequencies</th>\n",
       "      <th>number</th>\n",
       "    </tr>\n",
       "  </thead>\n",
       "  <tbody>\n",
       "    <tr>\n",
       "      <th>45</th>\n",
       "      <td>11.087571</td>\n",
       "      <td>37</td>\n",
       "    </tr>\n",
       "    <tr>\n",
       "      <th>46</th>\n",
       "      <td>11.158192</td>\n",
       "      <td>19</td>\n",
       "    </tr>\n",
       "    <tr>\n",
       "      <th>47</th>\n",
       "      <td>11.440678</td>\n",
       "      <td>50</td>\n",
       "    </tr>\n",
       "    <tr>\n",
       "      <th>48</th>\n",
       "      <td>11.511299</td>\n",
       "      <td>44</td>\n",
       "    </tr>\n",
       "    <tr>\n",
       "      <th>49</th>\n",
       "      <td>11.581921</td>\n",
       "      <td>23</td>\n",
       "    </tr>\n",
       "  </tbody>\n",
       "</table>\n",
       "</div>"
      ],
      "text/plain": [
       "    frequencies  number\n",
       "45    11.087571      37\n",
       "46    11.158192      19\n",
       "47    11.440678      50\n",
       "48    11.511299      44\n",
       "49    11.581921      23"
      ]
     },
     "execution_count": 12,
     "metadata": {},
     "output_type": "execute_result"
    }
   ],
   "source": [
    "(unique, counts) = np.unique(numbers, return_counts=True)\n",
    "occurence = np.asarray((unique, counts)).T\n",
    "np.sort(occurence, axis=1)\n",
    "\n",
    "# sort by number of occurence\n",
    "sorted_occurence = sorted(occurence, key=lambda row: row[1])\n",
    "\n",
    "count = df.shape[0]\n",
    "\n",
    "df_numbers = pd.DataFrame((list(map(lambda x: {\"number\": x[0], \"frequencies\": (x[1]/count) * 100} ,sorted_occurence))))\n",
    "df_numbers.tail(5)"
   ]
  },
  {
   "cell_type": "code",
   "execution_count": 13,
   "metadata": {},
   "outputs": [
    {
     "data": {
      "image/png": "[encoded data removed]",
      "text/plain": [
       "<Figure size 1440x1080 with 1 Axes>"
      ]
     },
     "metadata": {
      "needs_background": "light"
     },
     "output_type": "display_data"
    }
   ],
   "source": [
    "plt.figure(figsize=(20,15))\n",
    "ax = sns.barplot(data=df_numbers, x=\"number\", y=\"frequencies\", order=df_numbers[\"number\"], estimator=np.median)\n",
    "ax.set(xlabel='Number', ylabel='Frequency (%)')\n",
    "ax.set_ylim([0,15])\n",
    "plt.show()"
   ]
  },
  {
   "cell_type": "markdown",
   "metadata": {},
   "source": [
    "The chart above show us that with almost 1500 lines, the distribution of the frequencies is close to uniform. Each numbers has a frequency greater than 8% and lower than 12%\n",
    "\n",
    "Even if some numbers appear more often than the other ones, the difference isn't significative enough to get a trend. So unfortunetly, it seems that there isn't a magic trick.\n",
    "\n",
    "Yet, to go further we can pick a random number a see which of the other numbers are more likely to get you a win (according to the winning combinaisons)"
   ]
  },
  {
   "cell_type": "code",
   "execution_count": 14,
   "metadata": {},
   "outputs": [
    {
     "data": {
      "text/html": [
       "<div>\n",
       "<style scoped>\n",
       "    .dataframe tbody tr th:only-of-type {\n",
       "        vertical-align: middle;\n",
       "    }\n",
       "\n",
       "    .dataframe tbody tr th {\n",
       "        vertical-align: top;\n",
       "    }\n",
       "\n",
       "    .dataframe thead th {\n",
       "        text-align: right;\n",
       "    }\n",
       "</style>\n",
       "<table border=\"1\" class=\"dataframe\">\n",
       "  <thead>\n",
       "    <tr style=\"text-align: right;\">\n",
       "      <th></th>\n",
       "      <th>count</th>\n",
       "      <th>number</th>\n",
       "    </tr>\n",
       "  </thead>\n",
       "  <tbody>\n",
       "    <tr>\n",
       "      <th>7</th>\n",
       "      <td>260</td>\n",
       "      <td>5</td>\n",
       "    </tr>\n",
       "    <tr>\n",
       "      <th>8</th>\n",
       "      <td>266</td>\n",
       "      <td>9</td>\n",
       "    </tr>\n",
       "    <tr>\n",
       "      <th>9</th>\n",
       "      <td>283</td>\n",
       "      <td>3</td>\n",
       "    </tr>\n",
       "    <tr>\n",
       "      <th>10</th>\n",
       "      <td>285</td>\n",
       "      <td>8</td>\n",
       "    </tr>\n",
       "    <tr>\n",
       "      <th>11</th>\n",
       "      <td>289</td>\n",
       "      <td>2</td>\n",
       "    </tr>\n",
       "  </tbody>\n",
       "</table>\n",
       "</div>"
      ],
      "text/plain": [
       "    count  number\n",
       "7     260       5\n",
       "8     266       9\n",
       "9     283       3\n",
       "10    285       8\n",
       "11    289       2"
      ]
     },
     "execution_count": 14,
     "metadata": {},
     "output_type": "execute_result"
    }
   ],
   "source": [
    "(unique, counts) = np.unique(stars, return_counts=True)\n",
    "frequencies = np.asarray((unique, counts)).T\n",
    "np.sort(frequencies, axis=1)\n",
    "sorted_frequencies = sorted(frequencies, key=lambda row: row[1])\n",
    "\n",
    "df_stars = pd.DataFrame(\n",
    "    list(\n",
    "        map(lambda x: {\"number\": x[0], \"count\": x[1]} ,sorted_frequencies)\n",
    "    )\n",
    ")\n",
    "\n",
    "df_stars.tail(5)"
   ]
  },
  {
   "cell_type": "code",
   "execution_count": 15,
   "metadata": {},
   "outputs": [
    {
     "data": {
      "image/png": "[encoded data removed]",
      "text/plain": [
       "<Figure size 1440x1080 with 1 Axes>"
      ]
     },
     "metadata": {
      "needs_background": "light"
     },
     "output_type": "display_data"
    }
   ],
   "source": [
    "plt.figure(figsize=(20,15))\n",
    "ax = sns.barplot(data=df_stars, x=\"number\", y=\"count\", order=df_stars[\"number\"], estimator=np.median)\n",
    "ax.set(xlabel='Star', ylabel='Nb of occurence')\n",
    "plt.show()"
   ]
  },
  {
   "cell_type": "markdown",
   "metadata": {},
   "source": [
    "Contrary to the histogram of the numbers, we can see here a more significative difference in the number of apparence. The star eleven doesn't appear a lot. So if you follow the trend, we shouldn't bet on the 12 nor 11 or 10 stars if we want to maximise our chance to win"
   ]
  },
  {
   "cell_type": "code",
   "execution_count": null,
   "metadata": {},
   "outputs": [],
   "source": []
  }
 ],
 "metadata": {
  "kernelspec": {
   "display_name": "Python 3",
   "language": "python",
   "name": "python3"
  },
  "language_info": {
   "codemirror_mode": {
    "name": "ipython",
    "version": 3
   },
   "file_extension": ".py",
   "mimetype": "text/x-python",
   "name": "python",
   "nbconvert_exporter": "python",
   "pygments_lexer": "ipython3",
   "version": "3.7.3"
  }
 },
 "nbformat": 4,
 "nbformat_minor": 2
}
